{
 "cells": [
  {
   "cell_type": "code",
   "execution_count": null,
   "metadata": {
    "colab": {
     "base_uri": "https://localhost:8080/"
    },
    "collapsed": true,
    "executionInfo": {
     "elapsed": 30749,
     "status": "ok",
     "timestamp": 1733640424921,
     "user": {
      "displayName": "1DS22IS105 Pradhyumna S",
      "userId": "11389522700949652190"
     },
     "user_tz": -330
    },
    "id": "zFYlCnTy9p1E",
    "outputId": "48b81f65-445a-4151-e7be-188217f54ecf"
   },
   "outputs": [],
   "source": [
    "from google.colab import drive\n",
    "drive.mount('/content/drive')\n"
   ]
  },
  {
   "cell_type": "code",
   "execution_count": null,
   "metadata": {
    "colab": {
     "base_uri": "https://localhost:8080/"
    },
    "collapsed": true,
    "executionInfo": {
     "elapsed": 10015,
     "status": "ok",
     "timestamp": 1733640434931,
     "user": {
      "displayName": "1DS22IS105 Pradhyumna S",
      "userId": "11389522700949652190"
     },
     "user_tz": -330
    },
    "id": "6c8bMa2W2w_p",
    "outputId": "65090f75-42f1-49a5-acd7-eaa90c538593"
   },
   "outputs": [],
   "source": [
    "!pip install keras --upgrade\n",
    "!pip install flask flask-ngrok\n",
    "!pip install pyngrok"
   ]
  },
  {
   "cell_type": "code",
   "execution_count": null,
   "metadata": {
    "colab": {
     "base_uri": "https://localhost:8080/"
    },
    "collapsed": true,
    "executionInfo": {
     "elapsed": 3730,
     "status": "ok",
     "timestamp": 1733640441405,
     "user": {
      "displayName": "1DS22IS105 Pradhyumna S",
      "userId": "11389522700949652190"
     },
     "user_tz": -330
    },
    "id": "SVFH-_UXuH4v",
    "outputId": "1bf4868d-bc39-4df9-add2-73683440fe3c"
   },
   "outputs": [],
   "source": [
    "!wget https://bin.equinox.io/c/4VmDzA7iaHb/ngrok-stable-linux-amd64.zip\n",
    "!unzip ngrok-stable-linux-amd64.zip\n"
   ]
  },
  {
   "cell_type": "code",
   "execution_count": null,
   "metadata": {
    "colab": {
     "base_uri": "https://localhost:8080/"
    },
    "collapsed": true,
    "executionInfo": {
     "elapsed": 4086,
     "status": "ok",
     "timestamp": 1733640445489,
     "user": {
      "displayName": "1DS22IS105 Pradhyumna S",
      "userId": "11389522700949652190"
     },
     "user_tz": -330
    },
    "id": "gn-PaUNwvnkQ",
    "outputId": "f27d982a-0da7-4686-d4eb-dd936b90236c"
   },
   "outputs": [],
   "source": [
    "!ngrok config add-authtoken "
   ]
  },
  {
   "cell_type": "code",
   "execution_count": null,
   "metadata": {
    "colab": {
     "base_uri": "https://localhost:8080/"
    },
    "collapsed": true,
    "executionInfo": {
     "elapsed": 4,
     "status": "ok",
     "timestamp": 1733640447862,
     "user": {
      "displayName": "1DS22IS105 Pradhyumna S",
      "userId": "11389522700949652190"
     },
     "user_tz": -330
    },
    "id": "gW-t-EbTuNZE",
    "outputId": "df5121f9-3583-4a57-8dba-b57b69f9e484"
   },
   "outputs": [],
   "source": [
    "!./ngrok authtoken \n"
   ]
  },
  {
   "cell_type": "code",
   "execution_count": 6,
   "metadata": {
    "executionInfo": {
     "elapsed": 894,
     "status": "ok",
     "timestamp": 1733640451148,
     "user": {
      "displayName": "1DS22IS105 Pradhyumna S",
      "userId": "11389522700949652190"
     },
     "user_tz": -330
    },
    "id": "kYBH53o5v7TH"
   },
   "outputs": [],
   "source": [
    "from pyngrok import ngrok\n",
    "ngrok.set_auth_token(\"\")\n"
   ]
  },
  {
   "cell_type": "code",
   "execution_count": 7,
   "metadata": {
    "executionInfo": {
     "elapsed": 2,
     "status": "ok",
     "timestamp": 1733640451148,
     "user": {
      "displayName": "1DS22IS105 Pradhyumna S",
      "userId": "11389522700949652190"
     },
     "user_tz": -330
    },
    "id": "j2VYWRjf3SOA"
   },
   "outputs": [],
   "source": [
    "import os\n",
    "os.makedirs('/content/static', exist_ok=True)\n"
   ]
  },
  {
   "cell_type": "code",
   "execution_count": null,
   "metadata": {
    "colab": {
     "base_uri": "https://localhost:8080/",
     "height": 35
    },
    "collapsed": true,
    "executionInfo": {
     "elapsed": 1226,
     "status": "ok",
     "timestamp": 1733640474583,
     "user": {
      "displayName": "1DS22IS105 Pradhyumna S",
      "userId": "11389522700949652190"
     },
     "user_tz": -330
    },
    "id": "w9Vvfqla3ZAY",
    "outputId": "b786549d-e27e-47e8-8f2f-2ab6699178f5"
   },
   "outputs": [],
   "source": [
    "import shutil\n",
    "shutil.copy('/content/drive/My Drive/Web Images/upimg.jpeg', '/content/static/upimg.jpeg')\n"
   ]
  },
  {
   "cell_type": "code",
   "execution_count": null,
   "metadata": {
    "colab": {
     "base_uri": "https://localhost:8080/"
    },
    "executionInfo": {
     "elapsed": 71192,
     "status": "ok",
     "timestamp": 1733640550073,
     "user": {
      "displayName": "1DS22IS105 Pradhyumna S",
      "userId": "11389522700949652190"
     },
     "user_tz": -330
    },
    "id": "mDQNcKry-CLW",
    "outputId": "47ef91e1-0db2-45bb-f055-8c0b70c534ad"
   },
   "outputs": [],
   "source": [
    "from flask import Flask, request, render_template_string, send_from_directory\n",
    "import cv2\n",
    "import numpy as np\n",
    "from tensorflow.keras.models import load_model\n",
    "import os\n",
    "import logging\n",
    "\n",
    "app = Flask(__name__)\n",
    "\n",
    "logging.basicConfig(level=logging.DEBUG)\n",
    "\n",
    "model_path = '/content/drive/My Drive/models/PDCNN/finalmodel.keras'\n",
    "try:\n",
    "    model = load_model(model_path)\n",
    "    logging.info(\"Model loaded successfully\")\n",
    "except Exception as e:\n",
    "    logging.error(f\"Error loading model: {e}\")\n",
    "\n",
    "def preprocess_image(image_path):\n",
    "    image = cv2.imread(image_path, cv2.IMREAD_GRAYSCALE)\n",
    "    image = cv2.resize(image, (200, 224))\n",
    "    image = image.astype('float32') / 255.0\n",
    "    image = np.expand_dims(image, axis=0)\n",
    "    image = np.expand_dims(image, axis=-1)\n",
    "    return image\n",
    "\n",
    "\n",
    "def predict_pneumonia(image_path):\n",
    "    preprocessed_image = preprocess_image(image_path)\n",
    "    prediction = model.predict(preprocessed_image)\n",
    "    if prediction[0][0] >= 0.6:\n",
    "        return f\"X-Ray Shows Signs of Pneumonia\"\n",
    "    if prediction[0][0]>=0.5 and prediction[0][0]<0.6:\n",
    "        return f\"X-Ray Shows Possible Early Stages of Pneumonia\"\n",
    "    else:\n",
    "        return f\"X-Ray Shows No Signs of Pneumonia\"\n",
    "\n",
    "@app.route('/', methods=['GET', 'POST'])\n",
    "def upload_file():\n",
    "    try:\n",
    "        if request.method == 'POST':\n",
    "            if 'file' not in request.files:\n",
    "                return \"No file part\"\n",
    "            file = request.files['file']\n",
    "            if file.filename == '':\n",
    "                return \"No selected file\"\n",
    "            if file:\n",
    "                file_path = os.path.join('/content/uploads', file.filename)\n",
    "                file.save(file_path)\n",
    "                logging.info(f\"File saved to: {file_path}\")\n",
    "                result = predict_pneumonia(file_path)\n",
    "                return render_template_string(result_page, result=result, image_path='/uploads/' + file.filename)\n",
    "        return render_template_string(upload_page)\n",
    "    except Exception as e:\n",
    "        logging.error(f\"Error in upload_file: {e}\")\n",
    "        return f\"An error occurred during file upload: {e}\"\n",
    "@app.route('/uploads/<filename>')\n",
    "def uploaded_file(filename):\n",
    "    try:\n",
    "        return send_from_directory('/content/uploads', filename)\n",
    "    except Exception as e:\n",
    "        logging.error(f\"Error in send_from_directory: {e}\")\n",
    "        return f\"An error occurred while accessing the file: {e}\"\n",
    "\n",
    "upload_page = '''\n",
    "<!DOCTYPE html>\n",
    "<html>\n",
    "<head>\n",
    "    <title>Pneumonia Detector</title>\n",
    "    <meta charset=\"UTF-8\">\n",
    "    <meta name=\"viewport\" content=\"width=device-width, initial-scale=1\">\n",
    "    <link rel=\"stylesheet\" href=\"https://www.w3schools.com/w3css/4/w3.css\">\n",
    "    <style>\n",
    "        body {font-family: \"Times New Roman\", Georgia, Serif;}\n",
    "        h1, h2, h3, h4, h5, h6 {\n",
    "            font-family: \"Playfair Display\";\n",
    "            letter-spacing: 5px;\n",
    "        }\n",
    "        .custom-file-upload, input[type=\"submit\"] {\n",
    "            background-color: #888;\n",
    "            color: white;\n",
    "            padding: 10px 20px;\n",
    "            border: none;\n",
    "            border-radius: 5px;\n",
    "            cursor: pointer;\n",
    "            font-size: 16px;\n",
    "            display: inline-block;\n",
    "        }\n",
    "        .custom-file-upload:hover, input[type=\"submit\"]:hover {\n",
    "            background-color: #555;\n",
    "        }\n",
    "        .container {\n",
    "            background-color: rgba(0, 0, 0, 0.7);\n",
    "            padding: 20px;\n",
    "            border-radius: 10px;\n",
    "            color: white;\n",
    "            text-align: center;\n",
    "        }\n",
    "        .input-wrapper {\n",
    "            display: flex;\n",
    "            justify-content: center;\n",
    "            align-items: center;\n",
    "            gap: 10px;\n",
    "            margin-bottom: 20px;\n",
    "        }\n",
    "        input[type=\"file\"] {\n",
    "            display: none;\n",
    "        }\n",
    "    </style>\n",
    "</head>\n",
    "<body>\n",
    "\n",
    "<!-- Navbar (sit on top) -->\n",
    "<div class=\"w3-top\">\n",
    "    <div class=\"w3-bar w3-white w3-padding w3-card\" style=\"letter-spacing:4px;\">\n",
    "        <a href=\"#\" class=\"w3-bar-item\">Pneumonia Detector</a>\n",
    "    </div>\n",
    "</div>\n",
    "\n",
    "<!-- Header -->\n",
    "<header class=\"w3-display-container w3-content w3-wide\" style=\"max-width:1600px;min-width:500px\" id=\"home\">\n",
    "    <div class=\"w3-display-bottomleft w3-padding-large w3-opacity\">\n",
    "        </div>\n",
    "</header>\n",
    "\n",
    "<!-- Page content -->\n",
    "<div class=\"w3-content\" style=\"max-width:1100px\">\n",
    "\n",
    "    <!-- About Section -->\n",
    "    <div class=\"w3-row w3-padding-32\" id=\"about\" style=\"margin-top: 50px;\">\n",
    "        <div class=\"w3-col m6 w3-padding-large w3-hide-small\" style=\"margin-top:120px;margin-right-50px\">\n",
    "            <img src=\"/static/upimg.jpeg\" class=\"w3-round w3-image w3-opacity-min\" alt=\"Table Setting\" width=\"600\" height=\"750\">\n",
    "        </div>\n",
    "\n",
    "        <div class=\"w3-col m6 w3-padding-large\">\n",
    "            <h1 class=\"w3-center\">About Pneumonia</h1><br>\n",
    "            <p class=\"w3-large\">Pneumonia is a major global health concern, affecting millions of people each year and leading to significant morbidity and mortality.\n",
    "             Traditional methods of pneumonia diagnosis, such as physical examination and chest X-rays, can be time-consuming, subjective, and prone to inaccuracies, particularly in areas with limited healthcare resources.\n",
    "             Developing an AI-based pneumonia detection system could revolutionize the way this disease is identified and treated, leading to faster diagnoses, more accurate treatment, and improved patient outcomes.</p>\n",
    "            <p class=\"w3-large\">It's important to note that normal people can't just look at X-rays and tell whether it's pneumonic. Even experienced radiologists can sometimes struggle to accurately diagnose pneumonia from\n",
    "            chest X-rays alone. This highlights the need for additional tools, such as AI-based systems, to aid in the diagnosis and treatment of this disease.</p>\n",
    "        </div>\n",
    "    </div>\n",
    "\n",
    "    <!-- Upload Section -->\n",
    "    <div class=\"w3-container w3-padding-64\" id=\"upload\">\n",
    "        <div class=\"container\">\n",
    "            <h1>Upload X-Ray Image for Analysis</h1>\n",
    "            <form method=\"POST\" enctype=\"multipart/form-data\">\n",
    "                <div class=\"input-wrapper\">\n",
    "                    <label for=\"file-upload\" class=\"custom-file-upload\">\n",
    "                        Choose File\n",
    "                    </label>\n",
    "                    <input id=\"file-upload\" type=\"file\" name=\"file\">\n",
    "                    <input type=\"submit\" value=\"Upload\">\n",
    "                </div>\n",
    "            </form>\n",
    "        </div>\n",
    "    </div>\n",
    "\n",
    " <hr>\n",
    "\n",
    "    <!-- Contact Section -->\n",
    "    <div class=\"w3-container w3-padding-64\" id=\"contact\">\n",
    "        <h1>Contact</h1><br>\n",
    "        <p>If you have any questions or need further information, feel free to contact us.</p>\n",
    "        <p class=\"w3-text-blue-grey w3-large\"><b></b></p>\n",
    "        <form action=\"/action_page.php\" target=\"_blank\">\n",
    "            <p><input class=\"w3-input w3-padding-16\" type=\"text\" placeholder=\"Name\" required name=\"Name\"></p>\n",
    "            <p><input class=\"w3-input w3-padding-16\" type=\"number\" placeholder=\"How many people\" required name=\"People\"></p>\n",
    "            <p><input class=\"w3-input w3-padding-16\" type=\"datetime-local\" placeholder=\"Date and time\" required name=\"date\" value=\"2020-11-16T20:00\"></p>\n",
    "            <p><input class=\"w3-input w3-padding-16\" type=\"text\" placeholder=\"Message / Special requirements\" required name=\"Message\"></p>\n",
    "            <p><button class=\"w3-button w3-light-grey w3-section\" type=\"submit\">SEND MESSAGE</button></p>\n",
    "        </form>\n",
    "    </div>\n",
    "\n",
    "<!-- End page content -->\n",
    "</div>\n",
    "\n",
    "<!-- Footer -->\n",
    "<footer class=\"w3-center w3-light-grey w3-padding-32\">\n",
    "    <p>Dayananda Sagar College of Engineering</p>\n",
    "</footer>\n",
    "\n",
    "</body>\n",
    "</html>\n",
    "\n",
    "'''\n",
    "\n",
    "result_page = '''\n",
    "<!DOCTYPE html>\n",
    "<html>\n",
    "<head>\n",
    "    <title>Pneumonia Detector - Result</title>\n",
    "    <meta charset=\"UTF-8\">\n",
    "    <meta name=\"viewport\" content=\"width=device-width, initial-scale=1\">\n",
    "    <link rel=\"stylesheet\" href=\"https://www.w3schools.com/w3css/4/w3.css\">\n",
    "    <style>\n",
    "        body {font-family: \"Times New Roman\", Georgia, Serif;}\n",
    "        h1, h2, h3, h4, h5, h6 {\n",
    "            font-family: \"Playfair Display\";\n",
    "            letter-spacing: 5px;\n",
    "        }\n",
    "        .custom-file-upload, input[type=\"submit\"], .result-button {\n",
    "            background-color: #888;\n",
    "            color: white;\n",
    "            padding: 10px 20px;\n",
    "            border: none;\n",
    "            border-radius: 5px;\n",
    "            cursor: pointer;\n",
    "            font-size: 16px;\n",
    "            display: inline-block;\n",
    "        }\n",
    "        .custom-file-upload:hover, input[type=\"submit\"]:hover, .result-button:hover {\n",
    "            background-color: #555;\n",
    "        }\n",
    "        .container {\n",
    "        background-color: rgba(0, 0, 0, 0.7);\n",
    "        padding: 20px;\n",
    "        border-radius: 10px;\n",
    "        color: white;\n",
    "        text-align: center;\n",
    "        display: flex;\n",
    "        flex-direction: column;\n",
    "        justify-content: center; /* Vertically center content */\n",
    "        align-items: center; /* Horizontally center content */\n",
    "        height: 100%; /* Ensure it takes full height */\n",
    "        margin-top: 30px;\n",
    "    }\n",
    "        img {\n",
    "            max-width: 40%;\n",
    "            height: auto;\n",
    "            border-radius: 10px;\n",
    "            margin-bottom: 25px;\n",
    "            box-shadow: 0 4px 15px rgba(0, 0, 0, 0.5);\n",
    "        }\n",
    "        .result-button {\n",
    "            text-decoration: none; /* Remove underline */\n",
    "        }\n",
    "    </style>\n",
    "</head>\n",
    "<body>\n",
    "\n",
    "<!-- Navbar (sit on top) -->\n",
    "<div class=\"w3-top\">\n",
    "    <div class=\"w3-bar w3-white w3-padding w3-card\" style=\"letter-spacing:4px;\">\n",
    "        <a href=\"#\" class=\"w3-bar-item\">Pneumonia Detector</a>\n",
    "    </div>\n",
    "</div>\n",
    "\n",
    "<!-- Header -->\n",
    "<header class=\"w3-display-container w3-content w3-wide\" style=\"max-width:1600px;min-width:500px\" id=\"home\">\n",
    "    <div class=\"w3-display-bottomleft w3-padding-large w3-opacity\">\n",
    "        <h1 class=\"w3-xxlarge\">Analysis Result</h1>\n",
    "    </div>\n",
    "</header>\n",
    "\n",
    "<!-- Page content -->\n",
    "<div class=\"w3-content\" style=\"max-width:1100px\">\n",
    "\n",
    "    <!-- Result Section -->\n",
    "    <div class=\"w3-container w3-padding-64\" id=\"result\">\n",
    "        <div class=\"container\">\n",
    "            <h1>Prediction Result</h1>\n",
    "            <p style=\"font-size: 1.5em;\">{{ result }}</p>\n",
    "            <img src=\"{{ image_path }}\" alt=\"X-Ray Image\">\n",
    "            <p>Disclaimer: Please note that this analysis is done by an AI model and may not be 100% accurate.</p>\n",
    "            <a href=\"/\" class=\"result-button\">Upload Another Image</a>\n",
    "        </div>\n",
    "    </div>\n",
    "\n",
    " <hr>\n",
    "\n",
    "    <!-- Contact Section -->\n",
    "    <div class=\"w3-container w3-padding-64\" id=\"contact\">\n",
    "        <h1>Contact</h1><br>\n",
    "        <p>If you have any questions or need further information, feel free to contact us.</p>\n",
    "        <p class=\"w3-text-blue-grey w3-large\"><b></b></p>\n",
    "        <p>You can contact us by email at pradycod@gmail.com, or you can send us a message here:</p>\n",
    "        <form action=\"/action_page.php\" target=\"_blank\">\n",
    "            <p><input class=\"w3-input w3-padding-16\" type=\"text\" placeholder=\"Name\" required name=\"Name\"></p>\n",
    "            <p><input class=\"w3-input w3-padding-16\" type=\"number\" placeholder=\"How many people\" required name=\"People\"></p>\n",
    "            <p><input class=\"w3-input w3-padding-16\" type=\"datetime-local\" placeholder=\"Date and time\" required name=\"date\" value=\"2020-11-16T20:00\"></p>\n",
    "            <p><input class=\"w3-input w3-padding-16\" type=\"text\" placeholder=\"Message / Special requirements\" required name=\"Message\"></p>\n",
    "            <p><button class=\"w3-button w3-light-grey w3-section\" type=\"submit\">SEND MESSAGE</button></p>\n",
    "        </form>\n",
    "    </div>\n",
    "\n",
    "<!-- End page content -->\n",
    "</div>\n",
    "\n",
    "<!-- Footer -->\n",
    "<footer class=\"w3-center w3-light-grey w3-padding-32\">\n",
    "    <p>Dayananda Sagar College of Engineering</p>\n",
    "</footer>\n",
    "\n",
    "</body>\n",
    "</html>\n",
    "'''\n",
    "\n",
    "\n",
    "\n",
    "\n",
    "\n",
    "if __name__ == '__main__':\n",
    "    os.makedirs('/content/uploads', exist_ok=True)\n",
    "\n",
    "    public_url = ngrok.connect(5000, bind_tls=True)\n",
    "    print(\" * ngrok URL:\", public_url)\n",
    "\n",
    "    app.run(port=5000)"
   ]
  },
  {
   "cell_type": "code",
   "execution_count": null,
   "metadata": {
    "id": "G4xmIkjh-RAe"
   },
   "outputs": [],
   "source": []
  }
 ],
 "metadata": {
  "accelerator": "GPU",
  "colab": {
   "authorship_tag": "ABX9TyOZxIM3LYgtlT90UfjxD9tD",
   "gpuType": "T4",
   "provenance": [
    {
     "file_id": "1j70uc441U6UvMfyPy-4R6I9IJgtoM5eT",
     "timestamp": 1716291924829
    }
   ]
  },
  "kernelspec": {
   "display_name": "Python 3",
   "name": "python3"
  },
  "language_info": {
   "name": "python"
  }
 },
 "nbformat": 4,
 "nbformat_minor": 0
}
